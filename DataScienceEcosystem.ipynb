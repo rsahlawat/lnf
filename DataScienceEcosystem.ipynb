{
 "cells": [
  {
   "cell_type": "markdown",
   "id": "c8c43f3d-5ef6-42ed-9670-1204328bdacf",
   "metadata": {},
   "source": [
    "<h1>Data Science Tools and ecosystem</h1>"
   ]
  },
  {
   "cell_type": "markdown",
   "id": "a0436ff7-1556-46a9-b67a-3d29fe748f9e",
   "metadata": {},
   "source": [
    "In this notebook, Data Science Tools and Ecosystem are summarized."
   ]
  },
  {
   "cell_type": "markdown",
   "id": "bbd3773e-15d0-41be-9d26-20911f628598",
   "metadata": {},
   "source": [
    "Some of the popular languages that Data Scientists use are: \n",
    "  1. Java\n",
    "  2. Python\n",
    "  3. R"
   ]
  },
  {
   "cell_type": "markdown",
   "id": "3c325f1d-025d-49f5-bf67-0cae8e73ec6d",
   "metadata": {},
   "source": [
    "<b>Objectives for the Data Science Tools in this Cource:</b>\n",
    "<ul>\n",
    "    <li>Learn about Python's prominence in Data Science</li>\n",
    "    <li>Learn how to build in Jupyter Notebook/Lab</li>\n",
    "    <li>Learn about R for Data Visualization</li>\n",
    "    <li>Learn how to manage code in Github</li>\n",
    "</ul>"
   ]
  },
  {
   "cell_type": "markdown",
   "id": "b41e3db6-06b1-4b22-a3ae-5bc80a20316d",
   "metadata": {},
   "source": [
    "<b>Some of the commonly used libraries used by Data Scientists include:</b>\n",
    "<ol>\n",
    "    <li>NumPy</li>\n",
    "    <li>Panda</li>\n",
    "    <li>Matplotlib</li>\n",
    "</ol>\n"
   ]
  },
  {
   "cell_type": "markdown",
   "id": "8c83e272-8b5c-4cd6-a56f-265fa8bc18f3",
   "metadata": {},
   "source": [
    "| Data Science Tools |\n",
    "|:-------------------|\n",
    "| Apache Hadoop      |\n",
    "| Apache Spark       |\n",
    "| Panda              |"
   ]
  },
  {
   "cell_type": "markdown",
   "id": "139d2858-2abc-45bf-ab6b-835f77519c81",
   "metadata": {},
   "source": [
    "<h3>Below are a few examples of evaluating arithmetic expressions in Python.</h3>"
   ]
  },
  {
   "cell_type": "code",
   "execution_count": 3,
   "id": "23e5a038-6056-4994-90a5-1cac89e11fff",
   "metadata": {},
   "outputs": [
    {
     "data": {
      "text/plain": [
       "17"
      ]
     },
     "execution_count": 3,
     "metadata": {},
     "output_type": "execute_result"
    }
   ],
   "source": [
    "(3*4)+5"
   ]
  },
  {
   "cell_type": "code",
   "execution_count": 4,
   "id": "d9d339e5-00d2-4548-86ff-8d88ef382870",
   "metadata": {},
   "outputs": [
    {
     "name": "stdout",
     "output_type": "stream",
     "text": [
      "3.3333333333333335\n"
     ]
    }
   ],
   "source": [
    "#This will convert 200 minutes to hours by diving by 60\n",
    "def convertMinuteToHours(minutes):\n",
    "    \"\"\"\n",
    "    This will convert the minutes passed to hours\n",
    "    \"\"\"\n",
    "    return minutes / 60\n",
    "result = convertMinuteToHours(200)\n",
    "print(result)\n"
   ]
  },
  {
   "cell_type": "markdown",
   "id": "7da96ab6-e907-4821-bef3-bfbe9dd4aed4",
   "metadata": {},
   "source": [
    "<h2>Author</h2>\n",
    "Raminder Ahlawat"
   ]
  },
  {
   "cell_type": "code",
   "execution_count": null,
   "id": "d5d2f77b-1400-4c79-ab58-fed6339c2bd2",
   "metadata": {},
   "outputs": [],
   "source": []
  }
 ],
 "metadata": {
  "kernelspec": {
   "display_name": "Python 3 (ipykernel)",
   "language": "python",
   "name": "python3"
  },
  "language_info": {
   "codemirror_mode": {
    "name": "ipython",
    "version": 3
   },
   "file_extension": ".py",
   "mimetype": "text/x-python",
   "name": "python",
   "nbconvert_exporter": "python",
   "pygments_lexer": "ipython3",
   "version": "3.12.7"
  }
 },
 "nbformat": 4,
 "nbformat_minor": 5
}
